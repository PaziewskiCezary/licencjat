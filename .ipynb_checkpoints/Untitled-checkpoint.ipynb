{
 "cells": [
  {
   "cell_type": "code",
   "execution_count": 1,
   "metadata": {},
   "outputs": [
    {
     "name": "stderr",
     "output_type": "stream",
     "text": [
      "Using TensorFlow backend.\n"
     ]
    },
    {
     "name": "stdout",
     "output_type": "stream",
     "text": [
      "/home/supciorr/licencjat/dane/OASBUD.mat\n",
      "Downloading OASBUD.mat data\n",
      "[]\"OASBUD.mat\" data downloaded!\n"
     ]
    },
    {
     "name": "stderr",
     "output_type": "stream",
     "text": [
      "  0%|          | 0/100 [00:00<?, ?it/s]/usr/local/lib/python3.6/dist-packages/scipy/signal/signaltools.py:1593: FutureWarning: Using a non-tuple sequence for multidimensional indexing is deprecated; use `arr[tuple(seq)]` instead of `arr[seq]`. In the future this will be interpreted as an array index, `arr[np.array(seq)]`, which will result either in an error or a different result.\n",
      "  h = h[ind]\n",
      "100%|██████████| 100/100 [01:41<00:00,  1.13s/it]\n"
     ]
    }
   ],
   "source": [
    "from utils import get_data_set, mkdir, load_matlab_file, in_notebook\n",
    "from datasets import sets\n",
    "import os\n",
    "\n",
    "from models import unet, data_gen_small, Adam, dice_coef\n",
    "\n",
    "from usg import reconstruct\n",
    "\n",
    "if in_notebook():\n",
    "    from tqdm import tqdm_notebook as tqdm\n",
    "else:\n",
    "    from tqdm import tqdm\n",
    "\n",
    "# GETING DATASETS\n",
    "\n",
    "# home_dir = os.getenv(\"HOME\")\n",
    "# sets_path = os.path.join(home_dir, 'licencjat/dane')\n",
    "# mkdir(sets_path)\n",
    "\n",
    "# datas = []\n",
    "# for set_ in sets:\n",
    "#     datas.append(get_data_set(set_, sets_path))\n",
    "\n",
    "# for name, data_path in datas:\n",
    "#     path = os.path.join(sets_path, name)\n",
    "#     mkdir(path)\n",
    "\n",
    "#     if name == 'OASBUD':\n",
    "#         data = load_matlab_file(data_path)['data'][0]\n",
    "\n",
    "#     reconstruct(data, path)\n",
    "\n",
    "\n",
    "# from sklearn.model_selection import train_test_split\n",
    "\n",
    "# data_dir = '/home/supciorr/licencjat/dane/OASBUD/photos/'\n",
    "# mask_dir = '/home/supciorr/licencjat/dane/OASBUD/masks/'\n",
    "# all_images = os.listdir(data_dir)\n",
    "# train_images, validation_images = train_test_split(all_images, train_size=0.8, test_size=0.2)\n",
    "\n",
    "# train_gen = data_gen_small(data_dir, mask_dir, train_images, 5, [128, 128])\n",
    "# img, msk = next(train_gen)\n",
    "\n",
    "\n",
    "# model = unet(filters=64)\n",
    "# model.summary()\n",
    "\n",
    "# model.compile(optimizer=Adam(1e-4), loss='binary_crossentropy', metrics=[dice_coef])\n",
    "# model.fit_generator(train_gen, steps_per_epoch=5, epochs=10)\n",
    "\n",
    "# model.save_weights('unet_w')\n",
    "# train_gen = data_gen_small(data_dir, mask_dir, train_images, 5, [128, 128])\n",
    "# model.predict_generator(train_gen)"
   ]
  }
 ],
 "metadata": {
  "kernelspec": {
   "display_name": "Python 3",
   "language": "python",
   "name": "python3"
  },
  "language_info": {
   "codemirror_mode": {
    "name": "ipython",
    "version": 3
   },
   "file_extension": ".py",
   "mimetype": "text/x-python",
   "name": "python",
   "nbconvert_exporter": "python",
   "pygments_lexer": "ipython3",
   "version": "3.6.7"
  }
 },
 "nbformat": 4,
 "nbformat_minor": 2
}
